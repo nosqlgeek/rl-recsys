{
 "cells": [
  {
   "cell_type": "markdown",
   "metadata": {
    "slideshow": {
     "slide_type": "slide"
    }
   },
   "source": [
    "<img style=\"float: right; margin: 30px; padding: 10px; background-color: silver; width: 300px\" src=\"https://docs.redislabs.com/latest/images/icon_logo/redis-logo.svg\">\n",
    "\n",
    "# Redis for Recommendations\n",
    "David Maiers\n",
    "Tech. Enablement Manager@Redis Labs\n"
   ]
  },
  {
   "cell_type": "markdown",
   "metadata": {
    "slideshow": {
     "slide_type": "slide"
    }
   },
   "source": [
    "## About me\n",
    "\n",
    "<img style=\"float: left; margin: 30px\" src=\"https://2.bp.blogspot.com/-e3NM9qxK-aE/XEXotNueEMI/AAAAAAAAGFA/e5obRyfRXCEOZ7ygxKHOjVTN_QIJaH8dwCK4BGAYYCw/s113/Screenshot%2B2019-01-21%2B16.38.16.png\">\n",
    "\n",
    "I am actually adding this section because I am planning to use this notebook for a talk next week and it's kind of common to introduce yourself.\n",
    "\n",
    "So here the standard sentences which you will find in the agenda of one or the other conference or meetup:\n",
    "\n",
    "\"David is a creative Software Engineer and a skilled Consultant with experiences in software project management, for both product development and customer projects. Furthermore he has a strong database background by being specialized on NoSQL database systems.\"\n",
    "\n",
    "My experience is mainly based on my work as Senior Software Engineer, Project Lead, Software Architect, Consultant, Principal Solutions Engineer, Performance Architect for database companies like Ingres, sones (GraphDB), Couchbase or Redis Labs. As you can see, it's not my daily business to work on recommender systems (recommendation engines). I am more a database guy who loves to write code (even if I don't find too much time at the moment).\n",
    "\n",
    "I am currently working for Redis Labs as a Technical Enablement Manager by being responsible for the on-boarding of customers and technical field resources."
   ]
  },
  {
   "cell_type": "markdown",
   "metadata": {
    "slideshow": {
     "slide_type": "slide"
    }
   },
   "source": [
    "## About Redis\n",
    "\n",
    "<img style=\"float: right; margin: 30px; padding : 10px; background-color: silver\" src=\"https://redis.io/images/redis-white.png\">\n",
    "\n",
    "Think it's a good idea to mention what Redis actually is, whereby Redis is very popular and so most of you might already know what it is. Here a ranking of the most popular database systems (just to highlight how popular Redis is):\n",
    "\n",
    "* https://db-engines.com/en/ranking\n",
    "\n",
    "Redis is an open source (BSD licensed), in-memory data structure store, used as a database, cache and message broker. It supports data structures such as strings, hashes, lists, sets, sorted sets with range queries, bitmaps, hyperloglogs, geospatial indexes with radius queries and streams. Redis has built-in replication, Lua scripting, LRU eviction, transactions and different levels of on-disk persistence."
   ]
  },
  {
   "cell_type": "markdown",
   "metadata": {
    "slideshow": {
     "slide_type": "subslide"
    }
   },
   "source": [
    "### Redis Enterprise\n",
    "\n",
    "Redis Labs is the home of OSS Redis and the provider of the multi-model in-memory database system 'Redis Enterprise'. Redis Enterprise is based on Redis Open Source and is providing the following addtional features:\n",
    "\n",
    "* **Easier Operability**: Admin Web UI, Admin REST Service, several CLI tools, Redis Enterprise Cloud (Hosted or VPC), Enterprise Support\n",
    "* **Enhanced High Availability**: Node based quorum, rack-tone awareness, disaster recovery, periodic backup, faster failover times and different watchdog profiles, ...\n",
    "* **Improved Scalability and Consistent Performance**: Multiple Redis shards behind a single endpoint, different shards placement policies, built-in resource management for better resource isolation, multi-tenancy, Tunable frontend thread management, ...\n",
    "* **Active-Active Geo-replicated Databases**: By leveraging Conflict-free Replicated Data Types (resetable PN-Counters, OR-Sets, LW-wins Register, causual consistency via Vector Clocks)\n",
    "* **Redis on Flash**: Uses Flash drives as RAM extension in order to store more data at lower costs."
   ]
  },
  {
   "cell_type": "markdown",
   "metadata": {
    "slideshow": {
     "slide_type": "subslide"
    }
   },
   "source": [
    "### Modules\n",
    "\n",
    "In addition Redis Labs is maintaining the following modules:\n",
    "\n",
    "* **RediSearch**: Search engine over Redis\n",
    "* **Redis-ML**: Machine Learning Model Server\n",
    "* **Redis Graph**: Graph database with an Open Cypher-based query language\n",
    "* **ReJSON**: A JSON data type for Redis\n",
    "* **ReBloom**: Scalable Bloom filters\n",
    "\n",
    "The source code of all of these modules is available on Github."
   ]
  },
  {
   "cell_type": "markdown",
   "metadata": {
    "slideshow": {
     "slide_type": "slide"
    }
   },
   "source": [
    "## Preparations\n",
    "\n",
    "The following was prepared for this demo:\n",
    "\n",
    "* One Redis Database per module\n",
    "* Connect to all databases"
   ]
  },
  {
   "cell_type": "code",
   "execution_count": 30,
   "metadata": {
    "scrolled": true,
    "slideshow": {
     "slide_type": "subslide"
    }
   },
   "outputs": [
    {
     "name": "stdout",
     "output_type": "stream",
     "text": [
      "Connected: Redis<ConnectionPool<Connection<host=localhost,port=6379,db=0>>>\n",
      "Flushed: True\n",
      "Connected: Redis<ConnectionPool<Connection<host=localhost,port=3333,db=0>>>\n",
      "Flushed: True\n",
      "Connected: Redis<ConnectionPool<Connection<host=localhost,port=5555,db=0>>>\n",
      "Flushed: True\n",
      "Connected: Redis<ConnectionPool<Connection<host=localhost,port=7777,db=0>>>\n",
      "Flushed: True\n",
      "Connected: Redis<ConnectionPool<Connection<host=localhost,port=9999,db=0>>>\n",
      "Flushed: True\n"
     ]
    }
   ],
   "source": [
    "import json\n",
    "import redis\n",
    "\n",
    "# Standard Redis connections\n",
    "r = redis.StrictRedis(decode_responses=True) #Vanilla Redis\n",
    "r_m = redis.StrictRedis('localhost', '3333', decode_responses=True) #ML\n",
    "r_b = redis.StrictRedis('localhost', '5555', decode_responses=True) #Bloom & HLL\n",
    "r_g = redis.StrictRedis('localhost', '7777', decode_responses=True) #Graph\n",
    "r_s = redis.StrictRedis('localhost', '9999', decode_responses=True) #Search\n",
    "\n",
    "\n",
    "instances = [r , r_m, r_b, r_g, r_s]\n",
    "\n",
    "for i in instances:\n",
    "    print(\"Connected: {0}\".format(i))\n",
    "    print(\"Flushed: {0}\".format(i.flushall()))"
   ]
  },
  {
   "cell_type": "markdown",
   "metadata": {
    "slideshow": {
     "slide_type": "slide"
    }
   },
   "source": [
    "## Content Based Filtering\n",
    "\n",
    "The idea is to look at what a specific user is interested in and then to recommend things those are similar (i.e. having the same class) as other things the  user is liking.\n",
    "\n",
    "* Data structures: **Sets**\n",
    "* Operations: Members/Scans, Union"
   ]
  },
  {
   "cell_type": "code",
   "execution_count": 31,
   "metadata": {
    "slideshow": {
     "slide_type": "skip"
    }
   },
   "outputs": [
    {
     "name": "stdout",
     "output_type": "stream",
     "text": [
      "Database cleaned.\n"
     ]
    }
   ],
   "source": [
    "# Clean\n",
    "r.flushall()\n",
    "print(\"Database cleaned.\")"
   ]
  },
  {
   "cell_type": "code",
   "execution_count": 32,
   "metadata": {
    "scrolled": false,
    "slideshow": {
     "slide_type": "subslide"
    }
   },
   "outputs": [
    {
     "name": "stdout",
     "output_type": "stream",
     "text": [
      "David could be also interested in: {'Dragon Age', 'Valerian', 'Avatar', 'Spiderman', 'Wonder Woman', 'Fantastic Four', 'Batman'}\n"
     ]
    }
   ],
   "source": [
    "# David owns i.e. 1 comic per one of the following categories:\n",
    "r.sadd('usr:david:catg', 'fantasy', 'super-heros', 'scifi')\n",
    "\n",
    "# Here the items per category\n",
    "r.sadd('ctg:scifi:items','Valerian', 'Fantastic Four')\n",
    "r.sadd('ctg:super-heros:items', 'Batman', 'Spiderman', 'Wonder Woman')\n",
    "r.sadd('ctg:fantasy:items', 'Avatar', 'Dragon Age')\n",
    "\n",
    "# The following items could be interesting for David\n",
    "## BTW: SSCAN better for large sets\n",
    "categories = r.smembers('usr:david:catg')\n",
    "\n",
    "## Helper to prepare key list\n",
    "keys = [\"ctg:\" + ctg + \":items\" for ctg in categories]\n",
    "\n",
    "## BTW: SUNIONSTORE for materializing large result sets\n",
    "result = r.sunion(keys)\n",
    "print(\"David could be also interested in: {0}\".format(result))"
   ]
  },
  {
   "cell_type": "markdown",
   "metadata": {
    "slideshow": {
     "slide_type": "slide"
    }
   },
   "source": [
    "## Collaborative Filtering\n",
    "\n",
    "It's mandatory to have details about many other users collected. The underlying idea is that if person A likes the same things as person B, then person B might also like the other items those are liked by person A.\n",
    "\n",
    "* Data structures: **Sets**\n",
    "* Operations: Members/Scans, Union, Diff"
   ]
  },
  {
   "cell_type": "code",
   "execution_count": 4,
   "metadata": {
    "slideshow": {
     "slide_type": "skip"
    }
   },
   "outputs": [
    {
     "name": "stdout",
     "output_type": "stream",
     "text": [
      "Database cleaned.\n"
     ]
    }
   ],
   "source": [
    "# Clean\n",
    "r.flushall()\n",
    "print(\"Database cleaned.\")"
   ]
  },
  {
   "cell_type": "code",
   "execution_count": 5,
   "metadata": {
    "slideshow": {
     "slide_type": "subslide"
    }
   },
   "outputs": [
    {
     "name": "stdout",
     "output_type": "stream",
     "text": [
      "Demo data created.\n"
     ]
    }
   ],
   "source": [
    "# Demo data\n",
    "\n",
    "## David owns the comics Spiderman and Batman\n",
    "r.sadd('usr:david:items','Spiderman', 'Batman')\n",
    "\n",
    "## Pieter owns the comics Wonder Woman and Batman\n",
    "r.sadd('usr:pieter:items', 'Wonder Woman', 'Batman')\n",
    "\n",
    "## The following is the reverse mapping per item\n",
    "r.sadd('itm:spiderman:users', 'david')\n",
    "r.sadd('itm:batman:users', 'david', 'pieter')\n",
    "r.sadd('itm:wonder_woman:users', 'pieter')\n",
    "\n",
    "print(\"Demo data created.\")"
   ]
  },
  {
   "cell_type": "code",
   "execution_count": 6,
   "metadata": {
    "slideshow": {
     "slide_type": "subslide"
    }
   },
   "outputs": [
    {
     "name": "stdout",
     "output_type": "stream",
     "text": [
      "Users interested in the same items as David: {'david', 'pieter'}\n",
      "David is interested in: {'Batman', 'Spiderman'}\n",
      "David could be also interested in: {'Wonder Woman'}\n"
     ]
    }
   ],
   "source": [
    "# These are all the users interested in the same items as David\n",
    "items = r.smembers('usr:david:items')\n",
    "keys = [\"itm:\" + item.lower().replace(' ', '_') + \":users\" for item in items]\n",
    "\n",
    "users = r.sunion(keys)\n",
    "print(\"Users interested in the same items as David: {0}\".format(users))\n",
    "\n",
    "# Pieter is interested in the same items as David, so here the recommendation for David based on Pieter's interests\n",
    "print(\"David is interested in: {0}\".format(r.smembers('usr:david:items')))\n",
    "david_key = 'usr:david:items'\n",
    "\n",
    "for usr in users:\n",
    "    usr_key = \"usr:\" + usr + \":items\"\n",
    "    if usr_key != david_key:\n",
    "        print(\"David could be also interested in: {0}\".format(r.sdiff(usr_key, david_key)))"
   ]
  },
  {
   "cell_type": "markdown",
   "metadata": {
    "slideshow": {
     "slide_type": "slide"
    }
   },
   "source": [
    "## Ratings based Collaborative Filtering\n",
    "\n",
    "Same as collaborative filtering but we are now interested in 'How much does a user like an item' which allows us to find out if 2 or more users are liking similar things. Things those are also liked by User B but not yet liked by user A could be also interesting for user A.\n",
    "\n",
    "* Structures: **Sorted Sets**\n",
    "* Operations: Intersections, Unions, Members/Scans, Ranges, Weights & Aggregations"
   ]
  },
  {
   "cell_type": "code",
   "execution_count": 7,
   "metadata": {
    "slideshow": {
     "slide_type": "skip"
    }
   },
   "outputs": [
    {
     "name": "stdout",
     "output_type": "stream",
     "text": [
      "Database cleaned.\n"
     ]
    }
   ],
   "source": [
    "# Clean\n",
    "r.flushall()\n",
    "print(\"Database cleaned.\")"
   ]
  },
  {
   "cell_type": "code",
   "execution_count": 8,
   "metadata": {
    "slideshow": {
     "slide_type": "subslide"
    }
   },
   "outputs": [],
   "source": [
    "# Some helpers\n",
    "\n",
    "## TODO: Check syntax of r.zadd\n",
    "def zadd(key, score, item):\n",
    "    return r.execute_command('ZADD', key, score, item)\n",
    "\n",
    "## TODO: redis-py doesn't support weitghts here\n",
    "def zinterstore(target, keys, weights, agg):\n",
    "    if not agg:\n",
    "        return r.execute_command('ZINTERSTORE', target, len(keys), *keys, 'WEIGHTS', *weights)\n",
    "    else:\n",
    "        return r.execute_command('ZINTERSTORE', target, len(keys), *keys, 'WEIGHTS', *weights, 'AGGREGATE', agg)\n",
    "\n",
    "## TODO: redis-py doesn't support weitghts here\n",
    "def zunionstore(target, keys, weights, agg):\n",
    "    if not agg:\n",
    "        return r.execute_command('ZUNIONSTORE', target, len(keys), *keys, 'WEIGHTS', *weights)\n",
    "    else:\n",
    "        return r.execute_command('ZUNIONSTORE', target, len(keys), *keys, 'WEIGHTS', *weights, 'AGGREGATE', agg)    "
   ]
  },
  {
   "cell_type": "code",
   "execution_count": 9,
   "metadata": {
    "slideshow": {
     "slide_type": "subslide"
    }
   },
   "outputs": [
    {
     "name": "stdout",
     "output_type": "stream",
     "text": [
      "Demo data created.\n"
     ]
    }
   ],
   "source": [
    "# Demo data\n",
    "\n",
    "## Ratings by user\n",
    "zadd('usr:david:ratings', 3.0, 'spiderman')\n",
    "zadd('usr:david:ratings', 4.0, 'batman')\n",
    "zadd('usr:david:ratings', 3.0, 'superman')\n",
    "zadd('usr:pieter:ratings', 3.0, 'batman')\n",
    "zadd('usr:pieter:ratings', 1.0, 'wonder_woman')\n",
    "zadd('usr:pieter:ratings', 5.0, 'aqua_man')\n",
    "zadd('usr:pieter:ratings', 4.0, 'superman')\n",
    "\n",
    "## Ratings by item\n",
    "zadd('itm:spiderman:ratings', 3.0, 'david')\n",
    "zadd('itm:batman:ratings', 4.0, 'david')\n",
    "zadd('itm:batman:ratings', 3.0, 'pieter')\n",
    "zadd('itm:wonder_woman:ratings', 5.0, 'pieter')\n",
    "\n",
    "print(\"Demo data created.\")"
   ]
  },
  {
   "cell_type": "code",
   "execution_count": 10,
   "metadata": {
    "slideshow": {
     "slide_type": "subslide"
    }
   },
   "outputs": [
    {
     "name": "stdout",
     "output_type": "stream",
     "text": [
      "The following users rated David's items: ['pieter', 'david']\n"
     ]
    }
   ],
   "source": [
    "# Items rated by David\n",
    "rated_david = r.zrange('usr:david:ratings', 0, -1)\n",
    "keys = [\"itm:\" + rt + \":ratings\" for rt in rated_david]\n",
    "\n",
    "r.zunionstore('usr:david:ratings:same', keys)\n",
    "users = r.zrange('usr:david:ratings:same', 0, -1)\n",
    "print(\"The following users rated David's items: {}\".format(users))"
   ]
  },
  {
   "cell_type": "markdown",
   "metadata": {
    "slideshow": {
     "slide_type": "subslide"
    }
   },
   "source": [
    "### Sorted Set Intersections with Aggregations and Weights\n",
    "\n",
    "* By default, the resulting score of an element is the sum of its scores in the sorted sets where it exists. \n",
    "* Weights are multiplicators for scores\n",
    "* The weight is (1,-1) means that we subtract the second value from the first\n",
    "\n",
    "### Root Mean Square\n",
    "\n",
    "* The RMS value of a set of values is the square root of the arithmetic mean of the squares of the values."
   ]
  },
  {
   "cell_type": "code",
   "execution_count": 11,
   "metadata": {
    "slideshow": {
     "slide_type": "subslide"
    }
   },
   "outputs": [
    {
     "name": "stdout",
     "output_type": "stream",
     "text": [
      "The rating distance to pieter is [('batman', 1.0), ('superman', -1.0)]\n",
      "The average distance (RMS) to pieter is 1.0\n",
      "The following is highly recommended: [('aqua_man', 5.0)]\n"
     ]
    }
   ],
   "source": [
    "## Root Mean Square\n",
    "import math\n",
    "from functools import reduce\n",
    "\n",
    "def rms(values):\n",
    "    sq_sum = reduce(lambda x, y: x + y[1] ** 2, values, 0)\n",
    "    return math.sqrt(sq_sum / len(values))\n",
    "\n",
    "# Calculate similarities\n",
    "david_key = 'usr:david:ratings'\n",
    "for usr in users:\n",
    "        usr_key = \"usr:\" + usr + ':ratings'\n",
    "        \n",
    "        if usr_key != david_key:\n",
    "            usr_keys = [ david_key, usr_key ]\n",
    "            \n",
    "            # Weights are multiplying the scores\n",
    "            usr_weights = [1, -1]\n",
    "           \n",
    "            zinterstore(\"dist:david:\" + usr, usr_keys, usr_weights, \"\")\n",
    "            dists = r.zrange(\"dist:david:\" + usr, 0, -1, True, True)\n",
    "            print(\"The rating distance to {0} is {1}\".format(usr, dists))\n",
    "            print(\"The average distance (RMS) to {0} is {1}\".format(usr, rms(dists)))\n",
    "            \n",
    "            # The user is similar enough to David, add items of other users \n",
    "            #to the recommendation list\n",
    "            if rms(dists) <= 1:\n",
    "                #print(r.zrangebyscore(usr_key,4,5))\n",
    "                \n",
    "                # Items those are rated by David will have a negative score\n",
    "                usr_filter = [-1, 1]\n",
    "                zunionstore(\"rec:david\", usr_keys, usr_filter, \"MIN\")\n",
    "                # Filter only items with a score between 4 and 5 out\n",
    "                print(\"The following is highly recommended: {}\"\n",
    "                      .format(r.zrangebyscore('rec:david',4,5, withscores=True)))"
   ]
  },
  {
   "cell_type": "markdown",
   "metadata": {
    "slideshow": {
     "slide_type": "slide"
    }
   },
   "source": [
    "## Social Collaborative Filtering\n",
    "\n",
    "The previous examples used Sets and Sorted Sets. We are now exploring how to use Graphs. Our example is taking a social ('friend of') aspect into account.\n",
    "\n",
    "\n",
    "* Data structures: **Graph**\n",
    "* Operations: Traversals, Aggregations\n"
   ]
  },
  {
   "cell_type": "code",
   "execution_count": 12,
   "metadata": {
    "slideshow": {
     "slide_type": "skip"
    }
   },
   "outputs": [
    {
     "name": "stdout",
     "output_type": "stream",
     "text": [
      "Graph database cleaned.\n"
     ]
    }
   ],
   "source": [
    "# Clean\n",
    "r_g.flushall()\n",
    "print(\"Graph database cleaned.\")"
   ]
  },
  {
   "cell_type": "code",
   "execution_count": 13,
   "metadata": {
    "slideshow": {
     "slide_type": "subslide"
    }
   },
   "outputs": [],
   "source": [
    "# Cypher's property format is slightly different than JSON\n",
    "# {\"hello\": \"world\" } is {hello: 'world'} \n",
    "def format_query_props(query):\n",
    "    query = query.replace(': \"', \": '\")\n",
    "    query = query.replace('\",', \"',\")\n",
    "    query = query.replace('\"}', \"'}\")\n",
    "    query = query.replace('\"', \"\")\n",
    "    #DEBUG: print(\"query = \" + query)\n",
    "    return query\n",
    "\n",
    "'''\n",
    "CREATE ( :person { name: 'A', age: B})\n",
    "'''\n",
    "def create_vertex(graph, label, props ):\n",
    "    # Some query formatting\n",
    "    query = 'CREATE ( :{0} {1} )'.format(label, json.dumps(props))\n",
    "    query = format_query_props(query)\n",
    "    \n",
    "    r_g.execute_command('GRAPH.QUERY', graph, query)"
   ]
  },
  {
   "cell_type": "code",
   "execution_count": 14,
   "metadata": {
    "slideshow": {
     "slide_type": "subslide"
    }
   },
   "outputs": [],
   "source": [
    "'''\n",
    "MATCH (a:Person),(b:Person)\n",
    "WHERE a.name = 'A' AND b.name = 'B'\n",
    "CREATE (a)-[r:RELTYPE]->(b)\n",
    "RETURN type(r)\n",
    "'''    \n",
    "def create_edge(graph, slabel, tlabel, source, target, elabel):\n",
    "    query = \"MATCH (a:{0}),(b:{1}) WHERE a.name = '{2}' AND b.name = '{3}' CREATE (a)-[r:{4}]->(b) RETURN type(r)\"\n",
    "    query = query.format(slabel, tlabel, source, target, elabel)\n",
    "    #DEBUG print(query)\n",
    "    return r_g.execute_command('GRAPH.QUERY', graph, query)\n",
    "    \n",
    "'''\n",
    "MATCH (a:Person)-[r:RELTYPE]->(b:Person)\n",
    "WHERE a.name = 'A' RETURN b.name\"\n",
    "'''\n",
    "def neighbours(graph, slabel, tlabel, elabel, source):\n",
    "    query = \"MATCH (a:{0})-[r:{1}]->(b:{2}) WHERE a.name = '{3}' RETURN b.name\".format(slabel, elabel, tlabel, source)\n",
    "    #DEBUG: print(query)\n",
    "    return r_g.execute_command('GRAPH.QUERY', graph, query)"
   ]
  },
  {
   "cell_type": "code",
   "execution_count": 15,
   "metadata": {
    "slideshow": {
     "slide_type": "subslide"
    }
   },
   "outputs": [],
   "source": [
    "# Constants\n",
    "GRAPH = 'Comics'\n",
    "T_PERSON = 'Person'\n",
    "T_COMIC = 'Comic'\n",
    "T_CATEGORY = 'Category'\n",
    "T_FRIEND = 'IS_FRIEND_OF'\n",
    "T_LIKES = 'LIKES'\n",
    "T_CONTAINS = 'CONTAINS'"
   ]
  },
  {
   "cell_type": "code",
   "execution_count": 16,
   "metadata": {
    "slideshow": {
     "slide_type": "subslide"
    }
   },
   "outputs": [
    {
     "name": "stdout",
     "output_type": "stream",
     "text": [
      "Vertices created.\n"
     ]
    }
   ],
   "source": [
    "# Load some vertices\n",
    "## Ages might be not real ;-)\n",
    "david={\"name\": \"David\", \"age\": 38, \"gender\": \"male\"}\n",
    "pieter={\"name\": \"Pieter\", \"age\": 35, \"gender\": \"male\"}\n",
    "itamar={\"name\": \"Itamar\", \"age\": 40, \"gender\": \"male\"}\n",
    "vassilis={\"name\": \"Vassilis\", \"age\": 39, \"gender\": \"male\"}\n",
    "katrin={\"name\": \"Katrin\", \"age\": 38, \"gender\": \"female\"}\n",
    "romy={\"name\": \"Romy\", \"age\": 35, \"gender\": \"female\"}\n",
    "\n",
    "spiderman={\"name\": \"Spiderman\"}\n",
    "batman={\"name\": \"Batman\"}\n",
    "wonder_woman={\"name\": \"Wonder Woman\"}\n",
    "superman={\"name\": \"Superman\"}\n",
    "aquaman={\"name\": \"Auqaman\"}\n",
    "valierian={\"name\" : \"Valerian\"}\n",
    "fantastic_four={\"name\" : \"Fantastic Four\"}\n",
    "\n",
    "super_heros = { \"name\" : \"Super Heros\" }\n",
    "scifi = { \"name\" : \"SciFi\" }\n",
    "\n",
    "v_persons = [ david, pieter, itamar, vassilis, katrin, romy ]  \n",
    "v_comics = [ spiderman, batman, wonder_woman, superman, aquaman ]\n",
    "v_categories = [ super_heros, scifi ]\n",
    "\n",
    "for v in v_persons:\n",
    "    create_vertex(GRAPH, T_PERSON, v)\n",
    "    \n",
    "for v in v_comics:\n",
    "    create_vertex(GRAPH, T_COMIC, v)\n",
    "\n",
    "for v in v_categories:\n",
    "    create_vertex(GRAPH, T_CATEGORY, v)\n",
    "    \n",
    "print(\"Vertices created.\")"
   ]
  },
  {
   "cell_type": "code",
   "execution_count": 17,
   "metadata": {
    "slideshow": {
     "slide_type": "subslide"
    }
   },
   "outputs": [
    {
     "name": "stdout",
     "output_type": "stream",
     "text": [
      "Edges created.\n"
     ]
    }
   ],
   "source": [
    "# Create some edges\n",
    "## Person has Friends\n",
    "create_edge(GRAPH, T_PERSON, T_PERSON, 'David', 'Pieter', T_FRIEND)\n",
    "create_edge(GRAPH, T_PERSON, T_PERSON, 'David', 'Vassilis', T_FRIEND)\n",
    "create_edge(GRAPH, T_PERSON, T_PERSON, 'David', 'Katrin', T_FRIEND)\n",
    "\n",
    "## Person likes Comics\n",
    "create_edge(GRAPH, T_PERSON, T_COMIC, 'David', 'Spiderman', T_LIKES)\n",
    "create_edge(GRAPH, T_PERSON, T_COMIC, 'David', 'Batman', T_LIKES)\n",
    "create_edge(GRAPH, T_PERSON, T_COMIC, 'Pieter', 'Batman', T_LIKES)\n",
    "create_edge(GRAPH, T_PERSON, T_COMIC, 'Pieter', 'Wonder Woman', T_LIKES)\n",
    "create_edge(GRAPH, T_PERSON, T_COMIC, 'Vassilis', 'Wonder Woman', T_LIKES)\n",
    "create_edge(GRAPH, T_PERSON, T_COMIC, 'Vassilis', 'Superman', T_LIKES)\n",
    "\n",
    "\n",
    "## Comic is type of\n",
    "create_edge(GRAPH, T_CATEGORY, T_COMIC, 'Super Heros', 'Spiderman', T_CONTAINS)\n",
    "create_edge(GRAPH, T_CATEGORY, T_COMIC, 'Super Heros', 'Batman', T_CONTAINS)\n",
    "create_edge(GRAPH, T_CATEGORY, T_COMIC, 'Super Heros', 'Wonder Woman', T_CONTAINS)\n",
    "create_edge(GRAPH, T_CATEGORY, T_COMIC, 'Super Heros', 'Superman', T_CONTAINS)\n",
    "create_edge(GRAPH, T_CATEGORY, T_COMIC, 'Super Heros', 'Aquaman', T_CONTAINS)\n",
    "create_edge(GRAPH, T_CATEGORY, T_COMIC, 'SciFi', 'Valerian', T_CONTAINS)\n",
    "create_edge(GRAPH, T_CATEGORY, T_COMIC, 'SciFi', 'Fantastic Four', T_CONTAINS)\n",
    "\n",
    "print(\"Edges created.\")"
   ]
  },
  {
   "cell_type": "code",
   "execution_count": 18,
   "metadata": {
    "slideshow": {
     "slide_type": "subslide"
    }
   },
   "outputs": [
    {
     "name": "stdout",
     "output_type": "stream",
     "text": [
      "David has the following friends: [[['b.name'], ['Pieter'], ['Vassilis'], ['Katrin']], ['Query internal execution time: 0.623700 milliseconds']]\n",
      "David likes [[['b.name'], ['Spiderman'], ['Batman']], ['Query internal execution time: 0.284600 milliseconds']]\n",
      "Comic Wonder Woman with relevance 2.000000\n",
      "Comic Batman with relevance 1.000000\n",
      "Comic Superman with relevance 1.000000\n"
     ]
    }
   ],
   "source": [
    "## Basic test of the Graph\n",
    "print(\"David has the following friends: {0}\".format(neighbours(GRAPH, T_PERSON, T_PERSON, T_FRIEND, 'David')))\n",
    "print(\"David likes {0}\".format(neighbours(GRAPH, T_PERSON, T_COMIC, T_LIKES, 'David')))\n",
    "\n",
    "## Super hero comics that David's friends like\n",
    "'''\n",
    "MATCH (person:Person)-[:IS_FRIEND_OF]->(friend)-[likes:LIKES]->(comic)<-[:CONTAINS]-(type) \n",
    "WHERE person.name = 'David' \n",
    "AND type.name = 'Super Heros' \n",
    "RETURN comic.name, count(likes) AS relevance \n",
    "ORDER BY relevance DESC\n",
    "LIMIT 10\n",
    "'''\n",
    "query = \"MATCH (person:Person)-[:IS_FRIEND_OF]->(friend)-[likes:LIKES]->(comic)<-[:CONTAINS]-(type) WHERE person.name = 'David' AND type.name = 'Super Heros' RETURN comic.name, count(likes) AS relevance ORDER BY relevance DESC LIMIT 10\"\n",
    "result = r_g.execute_command('GRAPH.QUERY', GRAPH, query)\n",
    "for i in range(0, len(result[0])):\n",
    "    if i != 0:\n",
    "        r = result[0][i]\n",
    "        comic = r[0]\n",
    "        relevance = r[1]\n",
    "        print(\"Comic {0} with relevance {1}\".format(comic, relevance))"
   ]
  },
  {
   "cell_type": "markdown",
   "metadata": {
    "slideshow": {
     "slide_type": "slide"
    }
   },
   "source": [
    "## Content Relevance via Full Text Search\n",
    "\n",
    "RediSearch has multiple built-in scoring functions. The default one is T(erm)F(requency)I(inverse)D(ocument)F(requency). The way it works is the following one:\n",
    "\n",
    "1. Term Frequency: How often does a specific term appear?\n",
    "2. Inverse Document Frequency: An inverse document frequency factor is incorporated which diminishes the weight of terms that occur very frequently in the document set and increases the weight of terms that occur rarely (i.e. the relevance of the word 'the'\n",
    "\n",
    "Furhter details about scoring can be found here:\n",
    "\n",
    "* https://oss.redislabs.com/redisearch/Scoring/\n",
    "\n",
    "Here, as before, the characteristics of this example:\n",
    "\n",
    "* Data structures: **Inverted Index**\n",
    "* Operations: Text search, Scoring\n"
   ]
  },
  {
   "cell_type": "code",
   "execution_count": 19,
   "metadata": {
    "slideshow": {
     "slide_type": "skip"
    }
   },
   "outputs": [
    {
     "name": "stdout",
     "output_type": "stream",
     "text": [
      "Full text search database cleaned.\n"
     ]
    }
   ],
   "source": [
    "# Clean database\n",
    "r_s.flushall();\n",
    "print(\"Full text search database cleaned.\")"
   ]
  },
  {
   "cell_type": "code",
   "execution_count": 20,
   "metadata": {
    "slideshow": {
     "slide_type": "subslide"
    }
   },
   "outputs": [],
   "source": [
    "# Converts a dict into a list of property values\n",
    "def format_doc_fields(fields):\n",
    "    result=[]\n",
    "    for f in fields:\n",
    "        result.append(f)\n",
    "        result.append(fields[f])\n",
    "    return result\n",
    "\n",
    "# Add a document to the index\n",
    "def add_doc(index, doc_id, score, fields):\n",
    "    fields = format_doc_fields(fields);\n",
    "    r_s.execute_command(\"FT.ADD\", index, doc_id, score, \"FIELDS\", *fields)"
   ]
  },
  {
   "cell_type": "code",
   "execution_count": 21,
   "metadata": {
    "slideshow": {
     "slide_type": "subslide"
    }
   },
   "outputs": [
    {
     "name": "stdout",
     "output_type": "stream",
     "text": [
      "Demo data created.\n"
     ]
    }
   ],
   "source": [
    "# Create the index\n",
    "COMIC_IDX = 'comic_idx'\n",
    "\n",
    "## The schema of the index\n",
    "schema = { \"name\" : \"TEXT\", \"type\" : \"TEXT\", \"edition\" : \"NUMERIC\", \"released\" : \"NUMERIC\", \"desc\" : \"TEXT\"}\n",
    "schema = format_doc_fields(schema)\n",
    "\n",
    "r_s.execute_command(\"FT.CREATE\", COMIC_IDX, \"SCHEMA\", *schema)    \n",
    "\n",
    "# Add some search docs\n",
    "spiderman={\"name\": \"Spiderman\", \"type\" : \"hero\", \"edition\" : 1, \"released\" : 1962, \"desc\" : \"Spiderman is a fictional super hero created by writer-editor Stan Lee and writer-artist Steve Ditko.\"}\n",
    "batman={\"name\": \"Batman\", \"type\" : \"dark\", \"edition\" : 1, \"released\" : 1939, \"desc\" : \"Batman is a fictional hero appearing in American comic books published by DC Comics. The character was created by artist Bob Kane and writer Bill Finger.\"}\n",
    "\n",
    "# We are not weighting the docs themselves, \n",
    "# if we would do then this would have an impact on the score\n",
    "add_doc(COMIC_IDX, 'spiderman', 1, spiderman)\n",
    "add_doc(COMIC_IDX, 'batman', 1, batman)    \n",
    "\n",
    "print(\"Demo data created.\")"
   ]
  },
  {
   "cell_type": "code",
   "execution_count": 22,
   "metadata": {
    "slideshow": {
     "slide_type": "subslide"
    }
   },
   "outputs": [
    {
     "data": {
      "text/plain": [
       "[2,\n",
       " 'spiderman',\n",
       " '0.10000000000000001',\n",
       " ['name', 'Spiderman'],\n",
       " 'batman',\n",
       " '0.035714285714285712',\n",
       " ['name', 'Batman']]"
      ]
     },
     "execution_count": 22,
     "metadata": {},
     "output_type": "execute_result"
    }
   ],
   "source": [
    "# Search with scorer\n",
    "# Spiderman belongs more likely to the category 'hero' than Batman \n",
    "# as it has the type 'hero' and the word 'hero' appears\n",
    "# in the derscription\n",
    "CATEGORY = 'hero'\n",
    "r_s.execute_command(\"FT.SEARCH\", COMIC_IDX, CATEGORY, 'WITHSCORES' , 'SCORER', 'TFIDF.DOCNORM', 'WITHSCORES', 'RETURN', 1, 'name')"
   ]
  },
  {
   "cell_type": "markdown",
   "metadata": {
    "slideshow": {
     "slide_type": "slide"
    }
   },
   "source": [
    "## Probabilistic Data Structures\n",
    "\n",
    "\n",
    "Probabilistic data structures are defined in the follwoing way. They \n",
    "\n",
    "* Use hash functions for randamization purposes\n",
    "* Return an approximated result\n",
    "* The error is under a specific threshold\n",
    "* Much more space efficient than deterministic approaches\n",
    "* Provide a constant query time\n",
    "\n",
    "You would use them because sometimes …\n",
    "\n",
    "* Speed is more important than correctness\n",
    "* Compactness is more important than correctness\n",
    "* You only need certain data guarantees\n",
    "\n",
    "It's possible to combine them with deterministic approaches (i.e. HLL + det. counter for discovering counter manipulations)."
   ]
  },
  {
   "cell_type": "markdown",
   "metadata": {
    "slideshow": {
     "slide_type": "subslide"
    }
   },
   "source": [
    "We will take a look at the following 2 structures:\n",
    "\n",
    "* **HyperLogLog**: Cardinality estimation of a set, i.e. unique visits\n",
    "* **Bloom Filter**: Check if an item is contained in a set whereby false-positves are possible"
   ]
  },
  {
   "cell_type": "code",
   "execution_count": 23,
   "metadata": {
    "slideshow": {
     "slide_type": "skip"
    }
   },
   "outputs": [
    {
     "name": "stdout",
     "output_type": "stream",
     "text": [
      "Bloom filter database cleaned.\n"
     ]
    }
   ],
   "source": [
    "# Clean\n",
    "r_b.flushall()\n",
    "print(\"Bloom filter database cleaned.\")"
   ]
  },
  {
   "cell_type": "code",
   "execution_count": 24,
   "metadata": {
    "slideshow": {
     "slide_type": "subslide"
    }
   },
   "outputs": [
    {
     "name": "stdout",
     "output_type": "stream",
     "text": [
      "HLL initial size: 31\n",
      "Approx. count: 4\n",
      "Please wait ...\n",
      "Final HLL size: 10590 bytes\n",
      "Approx. count: 99475\n"
     ]
    }
   ],
   "source": [
    "# Track the number of unique users those wanted to have a specific comic edition\n",
    "r_b.pfadd(\"wanted:spiderman:1\", \"david\", \"pieter\", \"katrin\", \"romy\")\n",
    "\n",
    "# Add David again to show that it is about unique users\n",
    "r_b.pfadd(\"wanted:spiderman:1\", \"david\")\n",
    "\n",
    "\n",
    "print(\"HLL initial size: {0}\".format(r_b.execute_command(\"DEBUG OBJECT\", \"wanted:spiderman:1\")[\"serializedlength\"]))\n",
    "print(\"Approx. count: {0}\".format(r_b.pfcount(\"wanted:spiderman:1\")))\n",
    "\n",
    "print(\"Please wait ...\")\n",
    "for i in range(0, 100000):\n",
    "    r_b.pfadd(\"wanted:spiderman:1\", \"user:{0}\".format(i))\n",
    "\n",
    "print(\"Final HLL size: {0} bytes\".format(r_b.execute_command(\"DEBUG OBJECT\", \"wanted:spiderman:1\")[\"serializedlength\"]))\n",
    "print(\"Approx. count: {0}\".format(r_b.pfcount(\"wanted:spiderman:1\")))"
   ]
  },
  {
   "cell_type": "code",
   "execution_count": 25,
   "metadata": {
    "slideshow": {
     "slide_type": "subslide"
    }
   },
   "outputs": [
    {
     "name": "stdout",
     "output_type": "stream",
     "text": [
      "BF size: 115 bytes\n",
      "BF size: 76 bytes\n",
      "Is Katrin interested in Fantasy?: 1\n",
      "Is Katrin interested in Super Heros?: 0\n",
      "Is David interested in Super Heros?: 1\n"
     ]
    }
   ],
   "source": [
    "# Check if a user is interested a specific comic category w/o actually storing the users per category set\n",
    "r_b.execute_command(\"BF.ADD\", \"ctg:super-heros\", \"david\")\n",
    "r_b.execute_command(\"BF.ADD\", \"ctg:super-heros\", \"pieter\")\n",
    "r_b.execute_command(\"BF.ADD\", \"ctg:super-heros\", \"vassilis\")\n",
    "r_b.execute_command(\"BF.ADD\", \"ctg:fantasy\", \"katrin\")\n",
    "\n",
    "print(\"BF size: {0} bytes\".format(r_b.execute_command(\"DEBUG OBJECT\", \"ctg:super-heros\")[\"serializedlength\"]))\n",
    "print(\"BF size: {0} bytes\".format(r_b.execute_command(\"DEBUG OBJECT\", \"ctg:fantasy\")[\"serializedlength\"]))\n",
    "\n",
    "print(\"Is Katrin interested in Fantasy?: {0}\".format(r_b.execute_command(\"BF.EXISTS\", \"ctg:fantasy\", \"katrin\")))\n",
    "print(\"Is Katrin interested in Super Heros?: {0}\".format(r_b.execute_command(\"BF.EXISTS\", \"ctg:super-heros\", \"katrin\")))\n",
    "print(\"Is David interested in Super Heros?: {0}\".format(r_b.execute_command(\"BF.EXISTS\", \"ctg:super-heros\", \"david\")))"
   ]
  },
  {
   "cell_type": "markdown",
   "metadata": {
    "slideshow": {
     "slide_type": "slide"
    }
   },
   "source": [
    "## Machine Learning for Classifications and Predictions\n",
    "\n",
    "The idea here is to train a model and then use such a model in order to classify a user. Here 2 examples for such models:\n",
    "\n",
    "* Decision Tree ensembles (random forests). The idea is to conduct a forest of decision trees at training time. RedisML can be used for the Model Serving by leveraging these decision trees for i.e. classification purposes. The class which appears most often will be the winner.\n",
    "\n",
    "* Neural networks: Train the weighted connections between neurons by using a learning algorithm (i.e. Backpropagation). Such networks are function approximators, meaning that the input vector will be mapped to an output vector. The output vector can tell you for instance how likely a given input is belonging to a specific class or category.\n",
    "\n",
    "### Redis-ML and Tree Ensembles\n",
    "\n",
    "The idea is to train the model by adding decision trees based on known users (i.e. Robin is 14 years old, he has about 5000 comics but he doesn't like Manga comics) by then deriving the class to which a user belongs. The class 'likes Manga Comics' is for instance binary. Either you like them (1) or you hate them (0)."
   ]
  },
  {
   "cell_type": "code",
   "execution_count": 26,
   "metadata": {
    "slideshow": {
     "slide_type": "skip"
    }
   },
   "outputs": [
    {
     "name": "stdout",
     "output_type": "stream",
     "text": [
      "ML database cleaned.\n"
     ]
    }
   ],
   "source": [
    "# Clean DB\n",
    "r_m.flushall()\n",
    "print(\"ML database cleaned.\")"
   ]
  },
  {
   "cell_type": "code",
   "execution_count": 27,
   "metadata": {
    "slideshow": {
     "slide_type": "subslide"
    }
   },
   "outputs": [],
   "source": [
    "# Add a very small binary tree with a criteria name and value\n",
    "def add_to_tree(forest, tree, cname, cvalue ):\n",
    "    return r_m.execute_command(\"ML.FOREST.ADD\", forest, tree, \".\", \"NUMERIC\", cname, cvalue, \".l\", \"LEAF\", 1, \".r\", \"LEAF\", 0)\n",
    "    \n",
    "# Basic formatting of feature vectors. They need to be in the format a:b,c:d\n",
    "def format_features(features):\n",
    "    v = \"\"\n",
    "    for f in features:\n",
    "        e = \"{0}:{1}\".format(f, features[f])\n",
    "        v += e + \",\"\n",
    "    return v.strip(',')\n",
    "\n",
    "# Classify based on the provided user features\n",
    "def classify(forest, features):\n",
    "    v = format_features(features)\n",
    "    return r_m.execute_command(\"ML.FOREST.RUN\", forest, v, \"CLASSIFICATION\")"
   ]
  },
  {
   "cell_type": "code",
   "execution_count": 28,
   "metadata": {
    "slideshow": {
     "slide_type": "subslide"
    }
   },
   "outputs": [
    {
     "name": "stdout",
     "output_type": "stream",
     "text": [
      "Does David likes Manga Comics?: 0\n",
      "Does Philip likes Manga Comics?: 1\n",
      "Does Robin likes Manga Comics?: 0\n"
     ]
    }
   ],
   "source": [
    "# Two very small decision trees:\n",
    "## Persons with an age of lower than or equal 20 are liking Manga Comics\n",
    "### First tree\n",
    "add_to_tree(\"manga\", 0, \"age\", 20 )\n",
    "\n",
    "## Persons those with more than 1000 comics are not liking Manga Comics\n",
    "### Second tree\n",
    "add_to_tree(\"manga\", 1, \"numcomics\", 1000)\n",
    "\n",
    "print(\"Does David likes Manga Comics?: {0}\".format(classify(\"manga\", { \"age\" : 38 })))\n",
    "print(\"Does Philip likes Manga Comics?: {0}\".format(classify(\"manga\", { \"age\" : 11 })))\n",
    "print(\"Does Robin likes Manga Comics?: {0}\".format(classify(\"manga\", { \"age\" : 14, \"numcomics\" : 5000 })))"
   ]
  },
  {
   "cell_type": "markdown",
   "metadata": {
    "slideshow": {
     "slide_type": "slide"
    }
   },
   "source": [
    "### Other Deep Learning Modules\n",
    "\n",
    "* **RedisAI**: Is Redis module for serving tensors and executing deep learning graphs. The source code is available here: https://github.com/RedisAI/RedisAI . The idea is to to train your models (i.e. neural networks) in Tensorflow and then to load the model to Redis in order to execute on it.\n",
    "\n",
    "<center>\n",
    "<img style=\"margin: 10px; height: 200px; text-align: center\" src=\"https://www.tensorflow.org/images/tensors_flowing.gif\">\n",
    "</center>\n",
    "\n",
    "* **Neural Redis**: Is a Redis module that implements feed forward neural networks as a native data type for Redis. The project goal is to provide Redis users with an extremely simple to use machine learning experience.\n",
    "\n"
   ]
  },
  {
   "cell_type": "markdown",
   "metadata": {
    "slideshow": {
     "slide_type": "slide"
    }
   },
   "source": [
    "## Questions?\n",
    "\n",
    "Follow  me on Twitter!\n",
    "\n",
    "@nosqlgeek"
   ]
  }
 ],
 "metadata": {
  "celltoolbar": "Slideshow",
  "kernelspec": {
   "display_name": "Python 3",
   "language": "python",
   "name": "python3"
  },
  "language_info": {
   "codemirror_mode": {
    "name": "ipython",
    "version": 3
   },
   "file_extension": ".py",
   "mimetype": "text/x-python",
   "name": "python",
   "nbconvert_exporter": "python",
   "pygments_lexer": "ipython3",
   "version": "3.7.2"
  }
 },
 "nbformat": 4,
 "nbformat_minor": 2
}
